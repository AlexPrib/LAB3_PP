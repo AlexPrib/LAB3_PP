{
 "cells": [
  {
   "cell_type": "code",
   "execution_count": 7,
   "metadata": {},
   "outputs": [
    {
     "name": "stdout",
     "output_type": "stream",
     "text": [
      "Результаты не совпадают\n"
     ]
    }
   ],
   "source": [
    "import numpy as np\n",
    "import os\n",
    "\n",
    "def read_matrix_from_file(filename):\n",
    "    with open(filename, 'r') as file:\n",
    "        lines = file.readlines()\n",
    "        matrix = [[int(x) for x in line.split()] for line in lines[1:]]\n",
    "    return np.array(matrix)\n",
    "\n",
    "\n",
    "matrix1 = read_matrix_from_file(\"C:\\\\Users\\\\alexp\\\\source\\\\repos\\\\PP_LAB3\\\\x64\\\\Release\\\\matrix1.txt\")\n",
    "matrix2 = read_matrix_from_file(\"C:\\\\Users\\\\alexp\\\\source\\\\repos\\\\PP_LAB3\\\\x64\\Release\\\\matrix2.txt\")\n",
    "result_matrix_cpp = read_matrix_from_file(\"C:\\\\Users\\\\alexp\\\\source\\\\repos\\\\PP_LAB3\\\\x64\\\\Release\\\\result_matrix.txt\")\n",
    "\n",
    "result_matrix_numpy = np.dot(matrix1, matrix2)\n",
    "\n",
    "if np.array_equal(result_matrix_numpy, result_matrix_cpp):\n",
    "    print(\"Результаты совпадают\")\n",
    "else:\n",
    "    print(\"Результаты не совпадают\")"
   ]
  },
  {
   "cell_type": "code",
   "execution_count": 11,
   "metadata": {},
   "outputs": [],
   "source": [
    "import matplotlib.pyplot as plt\n",
    "import scipy.stats as sts\n",
    "import statistics as st\n",
    "import pandas as pd\n",
    "\n",
    "\n",
    "def read_results(filename):\n",
    "    sizes = []\n",
    "    computation_times = []\n",
    "    with open(filename, 'r') as file:\n",
    "        while True:\n",
    "            tmp = []\n",
    "            size_line = file.readline().strip()\n",
    "            if not size_line:\n",
    "                break\n",
    "            size = int(size_line)\n",
    "            task_size = int(file.readline().strip())\n",
    "            for i in range(0, 10):\n",
    "                comp_time = file.readline().strip()\n",
    "                if not comp_time:\n",
    "                    break\n",
    "                tmp.append(int(comp_time))\n",
    "\n",
    "            sizes.append(size)\n",
    "            computation_times.append(tmp)\n",
    "    return sizes, computation_times\n",
    "\n",
    "\n",
    "def plot_intervals(sizes, intervals):\n",
    "    means = [interval[0] for interval in intervals]\n",
    "    lower_bounds = [interval[1][0] for interval in intervals]\n",
    "    upper_bounds = [interval[1][1] for interval in intervals]\n",
    "\n",
    "    plt.errorbar(sizes, means, yerr=[(upper-lower)/2 for upper, lower in zip(upper_bounds, lower_bounds)], fmt='o-', capsize=5)\n",
    "    plt.xlabel('Размер матрицы')\n",
    "    plt.ylabel('Время умножения')\n",
    "    plt.grid(True)\n",
    "    plt.show()\n",
    "\n",
    "\n",
    "def get_intervals(computation_times):\n",
    "    gamma = 0.95\n",
    "    intervals = []\n",
    "    for time in computation_times:\n",
    "        n = len(time)\n",
    "        x_mean = np.mean(time)\n",
    "        s = np.sqrt(st.variance(time))\n",
    "        confidence_interval = sts.t.interval(gamma, df=n-1, loc=x_mean, scale=s/np.sqrt(n))\n",
    "        intervals.append([x_mean, confidence_interval])\n",
    "    return intervals\n",
    "\n",
    "\n",
    "\n",
    "sizes, computation_times = read_results(\"C:\\\\Users\\\\alexp\\\\source\\\\repos\\\\PP_LAB3\\\\x64\\\\Release\\\\stats_mpi8.txt\")\n",
    "arr = pd.DataFrame({\"sizes\":sizes, \"times\":computation_times})\n",
    "intervals = get_intervals(computation_times)\n"
   ]
  },
  {
   "cell_type": "code",
   "execution_count": 12,
   "metadata": {},
   "outputs": [
    {
     "data": {
      "text/html": [
       "<div>\n",
       "<style scoped>\n",
       "    .dataframe tbody tr th:only-of-type {\n",
       "        vertical-align: middle;\n",
       "    }\n",
       "\n",
       "    .dataframe tbody tr th {\n",
       "        vertical-align: top;\n",
       "    }\n",
       "\n",
       "    .dataframe thead th {\n",
       "        text-align: right;\n",
       "    }\n",
       "</style>\n",
       "<table border=\"1\" class=\"dataframe\">\n",
       "  <thead>\n",
       "    <tr style=\"text-align: right;\">\n",
       "      <th></th>\n",
       "      <th>sizes</th>\n",
       "      <th>times</th>\n",
       "    </tr>\n",
       "  </thead>\n",
       "  <tbody>\n",
       "    <tr>\n",
       "      <th>0</th>\n",
       "      <td>500</td>\n",
       "      <td>[132, 130, 127, 128, 134, 126, 125, 123, 122, ...</td>\n",
       "    </tr>\n",
       "    <tr>\n",
       "      <th>1</th>\n",
       "      <td>600</td>\n",
       "      <td>[218, 201, 223, 201, 206, 208, 199, 207, 204, ...</td>\n",
       "    </tr>\n",
       "    <tr>\n",
       "      <th>2</th>\n",
       "      <td>700</td>\n",
       "      <td>[318, 368, 332, 339, 354, 363, 421, 396, 416, ...</td>\n",
       "    </tr>\n",
       "    <tr>\n",
       "      <th>3</th>\n",
       "      <td>800</td>\n",
       "      <td>[497, 442, 471, 483, 485, 446, 490, 480, 464, ...</td>\n",
       "    </tr>\n",
       "    <tr>\n",
       "      <th>4</th>\n",
       "      <td>900</td>\n",
       "      <td>[788, 761, 800, 762, 758, 761, 780, 778, 766, ...</td>\n",
       "    </tr>\n",
       "    <tr>\n",
       "      <th>5</th>\n",
       "      <td>1000</td>\n",
       "      <td>[939, 949, 959, 955, 965, 951, 946, 952, 950, ...</td>\n",
       "    </tr>\n",
       "    <tr>\n",
       "      <th>6</th>\n",
       "      <td>1100</td>\n",
       "      <td>[1404, 1423, 1482, 1502, 1448, 1412, 1388, 145...</td>\n",
       "    </tr>\n",
       "    <tr>\n",
       "      <th>7</th>\n",
       "      <td>1200</td>\n",
       "      <td>[1490, 1512, 1479, 1513, 1445, 1471, 1480, 143...</td>\n",
       "    </tr>\n",
       "    <tr>\n",
       "      <th>8</th>\n",
       "      <td>1300</td>\n",
       "      <td>[2330, 2362, 2312, 2350, 2332, 2341, 2381, 233...</td>\n",
       "    </tr>\n",
       "    <tr>\n",
       "      <th>9</th>\n",
       "      <td>1400</td>\n",
       "      <td>[2542, 2515, 2483, 2436, 2489, 2471, 2477, 245...</td>\n",
       "    </tr>\n",
       "    <tr>\n",
       "      <th>10</th>\n",
       "      <td>1500</td>\n",
       "      <td>[3550, 3529, 3587, 3486, 3487, 3403, 3482, 351...</td>\n",
       "    </tr>\n",
       "    <tr>\n",
       "      <th>11</th>\n",
       "      <td>1600</td>\n",
       "      <td>[3428, 3446, 3442, 3479, 3524, 3556, 3438, 362...</td>\n",
       "    </tr>\n",
       "    <tr>\n",
       "      <th>12</th>\n",
       "      <td>1700</td>\n",
       "      <td>[6081, 6527, 5283, 5592, 5434, 5582, 5737, 527...</td>\n",
       "    </tr>\n",
       "    <tr>\n",
       "      <th>13</th>\n",
       "      <td>1800</td>\n",
       "      <td>[5344, 6221, 5664, 5581, 5367, 5466, 5557, 563...</td>\n",
       "    </tr>\n",
       "    <tr>\n",
       "      <th>14</th>\n",
       "      <td>1900</td>\n",
       "      <td>[9687, 10266, 9781, 9526, 8019, 9444, 7978, 80...</td>\n",
       "    </tr>\n",
       "    <tr>\n",
       "      <th>15</th>\n",
       "      <td>2000</td>\n",
       "      <td>[6967, 6400, 7248, 7362, 7333, 7219, 7232, 725...</td>\n",
       "    </tr>\n",
       "  </tbody>\n",
       "</table>\n",
       "</div>"
      ],
      "text/plain": [
       "    sizes                                              times\n",
       "0     500  [132, 130, 127, 128, 134, 126, 125, 123, 122, ...\n",
       "1     600  [218, 201, 223, 201, 206, 208, 199, 207, 204, ...\n",
       "2     700  [318, 368, 332, 339, 354, 363, 421, 396, 416, ...\n",
       "3     800  [497, 442, 471, 483, 485, 446, 490, 480, 464, ...\n",
       "4     900  [788, 761, 800, 762, 758, 761, 780, 778, 766, ...\n",
       "5    1000  [939, 949, 959, 955, 965, 951, 946, 952, 950, ...\n",
       "6    1100  [1404, 1423, 1482, 1502, 1448, 1412, 1388, 145...\n",
       "7    1200  [1490, 1512, 1479, 1513, 1445, 1471, 1480, 143...\n",
       "8    1300  [2330, 2362, 2312, 2350, 2332, 2341, 2381, 233...\n",
       "9    1400  [2542, 2515, 2483, 2436, 2489, 2471, 2477, 245...\n",
       "10   1500  [3550, 3529, 3587, 3486, 3487, 3403, 3482, 351...\n",
       "11   1600  [3428, 3446, 3442, 3479, 3524, 3556, 3438, 362...\n",
       "12   1700  [6081, 6527, 5283, 5592, 5434, 5582, 5737, 527...\n",
       "13   1800  [5344, 6221, 5664, 5581, 5367, 5466, 5557, 563...\n",
       "14   1900  [9687, 10266, 9781, 9526, 8019, 9444, 7978, 80...\n",
       "15   2000  [6967, 6400, 7248, 7362, 7333, 7219, 7232, 725..."
      ]
     },
     "execution_count": 12,
     "metadata": {},
     "output_type": "execute_result"
    }
   ],
   "source": [
    "arr"
   ]
  },
  {
   "cell_type": "code",
   "execution_count": 13,
   "metadata": {},
   "outputs": [
    {
     "data": {
      "image/png": "[encoded data removed]",
      "text/plain": [
       "<Figure size 640x480 with 1 Axes>"
      ]
     },
     "metadata": {},
     "output_type": "display_data"
    }
   ],
   "source": [
    "plot_intervals(sizes, intervals)"
   ]
  },
  {
   "cell_type": "markdown",
   "metadata": {},
   "source": [
    "## MPI"
   ]
  },
  {
   "cell_type": "markdown",
   "metadata": {},
   "source": [
    "Для 2 ядер"
   ]
  },
  {
   "cell_type": "markdown",
   "metadata": {},
   "source": [
    "![title](2.png)"
   ]
  },
  {
   "cell_type": "markdown",
   "metadata": {},
   "source": [
    "Для 4 ядер"
   ]
  },
  {
   "cell_type": "markdown",
   "metadata": {},
   "source": [
    "![title](4h.png)"
   ]
  },
  {
   "cell_type": "markdown",
   "metadata": {},
   "source": [
    "Для 6 ядер"
   ]
  },
  {
   "cell_type": "markdown",
   "metadata": {},
   "source": [
    "![title](6.png)"
   ]
  },
  {
   "cell_type": "markdown",
   "metadata": {},
   "source": [
    "Для 8 ядер"
   ]
  },
  {
   "cell_type": "markdown",
   "metadata": {},
   "source": [
    "![title](8.png)"
   ]
  },
  {
   "cell_type": "markdown",
   "metadata": {},
   "source": [
    "Вывод: Технология MPI улучшила время перемножения матриц в сравнении с OpenMP, но видны большие скачки времени обработки и большое количество неровных кривых интервалов зависимости времени от размерности."
   ]
  }
 ],
 "metadata": {
  "kernelspec": {
   "display_name": "Python 3.9.13 64-bit (microsoft store)",
   "language": "python",
   "name": "python3"
  },
  "language_info": {
   "codemirror_mode": {
    "name": "ipython",
    "version": 3
   },
   "file_extension": ".py",
   "mimetype": "text/x-python",
   "name": "python",
   "nbconvert_exporter": "python",
   "pygments_lexer": "ipython3",
   "version": "3.9.13"
  },
  "orig_nbformat": 4,
  "vscode": {
   "interpreter": {
    "hash": "f014cb469a38d2d8f4ac9f86d0f57c360ccbe0c8a50ed2f85ac4f1103d0f54e9"
   }
  }
 },
 "nbformat": 4,
 "nbformat_minor": 2
}
